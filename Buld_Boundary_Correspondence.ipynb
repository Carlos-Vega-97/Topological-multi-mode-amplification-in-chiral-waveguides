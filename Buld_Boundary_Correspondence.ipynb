{
  "nbformat": 4,
  "nbformat_minor": 0,
  "metadata": {
    "colab": {
      "provenance": []
    },
    "kernelspec": {
      "name": "python3",
      "display_name": "Python 3"
    },
    "language_info": {
      "name": "python"
    }
  },
  "cells": [
    {
      "cell_type": "code",
      "metadata": {
        "id": "5AnURHzv95tj"
      },
      "source": [
        "import numpy as np\n",
        "\n",
        "class GaussianSystem:\n",
        "    \"\"\"\n",
        "    This class implements several methods for describing a driven-dissipative\n",
        "    bosonic lattice. In particular, it describes a set of N bosonic modes\n",
        "    coupled to a chiral multi-mode waveguide in the linear regime.\n",
        "\n",
        "    Methods include a routine to find steady state correlations and topological\n",
        "    features of the doubled-Hamiltonian.\n",
        "    \"\"\"\n",
        "\n",
        "    def __init__(self, N):\n",
        "        self.N = N\n",
        "\n",
        "    def create_params(self, Gammas, kl_s, pump, g_s, l_k, Delta=0, g_c=0):\n",
        "        \"\"\"\n",
        "        Creates a dictionary 'params' with all the relevant parameters of the\n",
        "        system:\n",
        "\n",
        "            - Gammas: List of decay rates to each chiral mode\n",
        "            - kl_s: List of momenta of each chiral mode\n",
        "            - pump: Amplitude of incoherent pump\n",
        "            - g_s: Parametric driving\n",
        "            - positions: List of positions of the bosonic modes\n",
        "        \"\"\"\n",
        "        params = {}\n",
        "        params['Gammas'] = Gammas\n",
        "        params['kl_s'] = kl_s\n",
        "        params['pump'] = pump\n",
        "        params['g_s'] = g_s\n",
        "        params['l_k'] = l_k\n",
        "        params['Delta'] = Delta\n",
        "        params['g_c'] = g_c\n",
        "\n",
        "        return params\n",
        "\n",
        "    def get_H_nh_k_space(self, k, params):\n",
        "        \"\"\"\n",
        "        Gets the 2x2 matrix representing the non-Hermitian Hamiltonian acting\n",
        "        over the Nambu spinor (b_k, b^dagger_k) in momentum space, for our\n",
        "        chiral-multimode scenario\n",
        "\n",
        "        Parameters\n",
        "        ----------\n",
        "        k: float\n",
        "          Momentum at which H_nk(k) is evaluated\n",
        "\n",
        "        params : Dictionary\n",
        "              System parameters\n",
        "\n",
        "        Returns\n",
        "        -------\n",
        "        H_nh : Matrix\n",
        "            2x2 Non-Hermitian matrix\n",
        "        \"\"\"\n",
        "\n",
        "        # Retrieve parameters from input dictionary\n",
        "        pump = params['pump']       # Incoherent pump amplitude\n",
        "        Gammas = params['Gammas']   # Decay rates onto each mode\n",
        "        kl_s = params['kl_s']       # Momentum of each mode\n",
        "        g_s = params['g_s']         # Parametric driving\n",
        "        l_k = params['l_k']         # Dissipative length\n",
        "        Delta = params['Delta']     # Parametric drive detuning\n",
        "        g_c = params['g_c']         # Collective parametric driving\n",
        "\n",
        "        # Convert to numpy arrays to allow operations\n",
        "        Gammas, kl_s = np.array(Gammas), np.array(kl_s)\n",
        "\n",
        "        # Initialize matrix\n",
        "        H_nh = np.zeros((2,2), dtype=complex)\n",
        "\n",
        "        # Parametric driving\n",
        "        H_nh[0,1] = g_s + 2*g_c*np.cos(k)\n",
        "        H_nh[1,0] = -np.conjugate(g_s) -2*np.conjugate(g_c)*np.cos(k)\n",
        "\n",
        "        # Incoherent pump\n",
        "        H_nh[0,0]= 1j*pump/2\n",
        "        H_nh[1,1]= 1j*pump/2\n",
        "\n",
        "        # Local losses\n",
        "        H_nh[0,0]+= -1j*np.sum(Gammas/2)\n",
        "        H_nh[1,1]+= -1j*np.sum(Gammas/2)\n",
        "\n",
        "        # Collective losses\n",
        "        H_nh[0,0] += -1j*np.sum(Gammas*np.exp(1j*(k+kl_s)-1/l_k)/(1-np.exp(1j*(k+kl_s)-1/l_k)))\n",
        "        H_nh[1,1] += -1j*np.sum(Gammas*np.exp(1j*(k-kl_s)-1/l_k)/(1-np.exp(1j*(k-kl_s)-1/l_k)))\n",
        "\n",
        "        # Parametric drive detuning\n",
        "        H_nh[0,0] += Delta\n",
        "        H_nh[1,1] += -Delta\n",
        "\n",
        "        return H_nh\n",
        "\n",
        "    def h(self, k, params):\n",
        "        H_nh = self.get_H_nh_k_space(k, params)\n",
        "        h_k = H_nh[0,0]\n",
        "\n",
        "        return h_k"
      ],
      "execution_count": 1,
      "outputs": []
    },
    {
      "cell_type": "code",
      "source": [
        "def get_params(W, Delta_pi=False):\n",
        "    \"\"\"\n",
        "    Function to get a set of parameters leading to a winding number corresponding\n",
        "    to input W. The keyword argument Delta_pi, if true, considers a two-mode waveguide\n",
        "    where (k1-k0) is equal to pi.\n",
        "    \"\"\"\n",
        "    Gauss = GaussianSystem(10)\n",
        "\n",
        "    g_s = 0.0\n",
        "\n",
        "    if W == 0:\n",
        "\n",
        "        Gammas = [1]\n",
        "        kl_s = [0]\n",
        "        l_k = 10\n",
        "        pump = 0.0\n",
        "\n",
        "    else:\n",
        "\n",
        "        Gammas = (1/W)*np.ones((W))\n",
        "        kl_s = np.array([0, np.pi/4, np.pi/8])[:W]\n",
        "        l_k = 1000\n",
        "        pump = 0.2\n",
        "\n",
        "    if Delta_pi:\n",
        "\n",
        "        Gammas = [1/2,1/2]\n",
        "        kl_s=[0, np.pi]\n",
        "        l_k = 1000\n",
        "        pump=0.2\n",
        "\n",
        "    params = Gauss.create_params(Gammas, kl_s, pump, g_s, l_k)\n",
        "\n",
        "    return params"
      ],
      "metadata": {
        "id": "ToaZDFCja4sk"
      },
      "execution_count": 2,
      "outputs": []
    },
    {
      "cell_type": "code",
      "source": [
        "def compute_expression(params, N):\n",
        "\n",
        "    Gauss = GaussianSystem(N)\n",
        "    h = lambda k: Gauss.h(k, params)\n",
        "\n",
        "    # Discretize k-space from -pi to pi with N points\n",
        "    k = np.linspace(-np.pi, np.pi, N, endpoint=False)\n",
        "\n",
        "    # Initialize the list to store the result\n",
        "    result = np.zeros(N)\n",
        "\n",
        "    # Finite difference step size\n",
        "    delta_k = 2 * np.pi / N\n",
        "\n",
        "    # Loop over each k_n and compute the expression\n",
        "    for n in range(1, N-1):  # We use n-1 and n+1, so avoid boundaries\n",
        "        h_prime = (h(k[n+1]) - h(k[n-1])) / (2 * delta_k)  # Central difference approximation\n",
        "        result[n] = np.abs(h_prime / h(k[n])) * delta_k\n",
        "\n",
        "    return result"
      ],
      "metadata": {
        "id": "tUYgSW0Eb2_T"
      },
      "execution_count": 3,
      "outputs": []
    },
    {
      "cell_type": "code",
      "source": [
        "N = 25\n",
        "params = get_params(1)"
      ],
      "metadata": {
        "id": "esoNwxmhcJXa"
      },
      "execution_count": 4,
      "outputs": []
    },
    {
      "cell_type": "code",
      "source": [
        "import matplotlib.pyplot as plt\n",
        "\n",
        "Ns = [25, 100, 200]\n",
        "\n",
        "fig, ax = plt.subplots(figsize = (7,5))\n",
        "ax.plot(np.linspace(-np.pi, np.pi, Ns[0])/np.pi, compute_expression(params, Ns[0]), 'o', label=\"$N=25$\")\n",
        "ax.plot(np.linspace(-np.pi, np.pi, Ns[1])/np.pi, compute_expression(params, Ns[1]), 'o', label=\"$N=100$\")\n",
        "ax.plot(np.linspace(-np.pi, np.pi, Ns[2])/np.pi, compute_expression(params, Ns[2]), 'o', label=\"$N=200$\")\n",
        "ax.set_yscale('log')\n",
        "ax.legend()\n",
        "ax.set_xlabel(\"$k$\")\n",
        "ax.set_ylabel(\"$|h'(k)/h(k)|\\delta k$\")\n",
        "ax.set_xlim([-1, 1])"
      ],
      "metadata": {
        "id": "khkX6gFadOlI",
        "colab": {
          "base_uri": "https://localhost:8080/",
          "height": 483
        },
        "outputId": "277cf9db-48e3-4e94-c977-d2b88a7aded9"
      },
      "execution_count": null,
      "outputs": [
        {
          "output_type": "execute_result",
          "data": {
            "text/plain": [
              "(-1.0, 1.0)"
            ]
          },
          "metadata": {},
          "execution_count": 65
        },
        {
          "output_type": "display_data",
          "data": {
            "text/plain": [
              "<Figure size 700x500 with 1 Axes>"
            ],
            "image/png": "[encoded data removed]"
          },
          "metadata": {}
        }
      ]
    },
    {
      "cell_type": "code",
      "source": [],
      "metadata": {
        "id": "21ZOc8cniQ65"
      },
      "execution_count": null,
      "outputs": []
    }
  ]
}